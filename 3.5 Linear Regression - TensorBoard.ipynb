{
 "cells": [
  {
   "cell_type": "markdown",
   "metadata": {
    "collapsed": true
   },
   "source": [
    "# A linear regression learning algorithm example using TensorFlow library."
   ]
  },
  {
   "cell_type": "markdown",
   "metadata": {},
   "source": [
    "Linear regression model is one of the simplest regression models. It assumes linear relationship between X and Y. The output equation is defined as follows:\n",
    "$$\\hat{y} = WX + b$$\n"
   ]
  },
  {
   "cell_type": "code",
   "execution_count": 1,
   "metadata": {
    "collapsed": true
   },
   "outputs": [],
   "source": [
    "import numpy as np\n",
    "import matplotlib.pyplot as plt\n",
    "import pandas as pd\n",
    "%matplotlib inline"
   ]
  },
  {
   "cell_type": "code",
   "execution_count": 2,
   "metadata": {
    "collapsed": true
   },
   "outputs": [],
   "source": [
    "#  Training Parameters\n",
    "learning_rate = 1e-1\n",
    "training_epochs = 2000\n",
    "display_step = 200"
   ]
  },
  {
   "cell_type": "code",
   "execution_count": 3,
   "metadata": {
    "collapsed": false
   },
   "outputs": [
    {
     "name": "stdout",
     "output_type": "stream",
     "text": [
      "200\n",
      "(200, 1) (200, 1)\n"
     ]
    },
    {
     "data": {
      "image/png": "[encoded data removed]",
      "text/plain": [
       "<matplotlib.figure.Figure at 0x1148e1c50>"
      ]
     },
     "metadata": {},
     "output_type": "display_data"
    }
   ],
   "source": [
    "# Load data. Advertising dataset from \"An Introduction to Statistical Learning\",\n",
    "# textbook by Gareth James, Robert Tibshirani, and Trevor Hastie \n",
    "import numpy as np\n",
    "data = pd.read_csv('dataset/Advertising.csv',index_col=0)\n",
    "train_X = data[['TV']].values \n",
    "\n",
    "train_Y = data.Sales.values \n",
    "train_Y = train_Y[:,np.newaxis]\n",
    "\n",
    "n_samples = train_X.shape[0]\n",
    "print n_samples\n",
    "print train_X.shape, train_Y.shape\n",
    "plt.plot(train_X, train_Y, 'ro', label='Original data')\n",
    "plt.show()"
   ]
  },
  {
   "cell_type": "code",
   "execution_count": 4,
   "metadata": {
    "collapsed": false
   },
   "outputs": [],
   "source": [
    "import tensorflow as tf\n",
    "# Define tf Graph Inputs\n",
    "X = tf.placeholder(\"float\",[None,1])\n",
    "y = tf.placeholder(\"float\",[None,1])\n",
    "\n",
    "# Create Model variables \n",
    "# Set model weights\n",
    "W = tf.Variable(np.random.randn(), name=\"weight\")\n",
    "b = tf.Variable(np.random.randn(), name=\"bias\")\n",
    "\n",
    "# Construct a linear model\n",
    "y_pred = tf.add(tf.mul(X, W), b)"
   ]
  },
  {
   "cell_type": "code",
   "execution_count": 5,
   "metadata": {
    "collapsed": false
   },
   "outputs": [],
   "source": [
    "# Minimize the squared errors\n",
    "cost = tf.reduce_sum(tf.pow(y_pred-y,2))/(2*n_samples) #L2 loss\n",
    "\n",
    "# Define the optimizer\n",
    "optimizer = tf.train.AdamOptimizer(learning_rate).minimize(cost) #Gradient descent"
   ]
  },
  {
   "cell_type": "code",
   "execution_count": 6,
   "metadata": {
    "collapsed": false
   },
   "outputs": [],
   "source": [
    "# Add summary ops to collect data\n",
    "w_hist = tf.histogram_summary(\"weights\", W)\n",
    "b_hist = tf.histogram_summary(\"biases\", b)\n",
    "y_hist = tf.histogram_summary(\"y\", y_pred)\n",
    "\n",
    "cost_summary = tf.scalar_summary(\"cost\", cost)\n",
    "\n",
    "# Merge all the summaries and write them out to /tmp/linear_regression\n",
    "merged = tf.merge_all_summaries()\n"
   ]
  },
  {
   "cell_type": "code",
   "execution_count": 14,
   "metadata": {
    "collapsed": false,
    "scrolled": false
   },
   "outputs": [
    {
     "name": "stdout",
     "output_type": "stream",
     "text": [
      "Epoch: 0001 cost= 3941.047607422 W= 0.608991 b= -0.961919\n",
      "Epoch: 0201 cost= 10.541399002 W= 0.0804008 b= 0.572611\n",
      "Epoch: 0401 cost= 7.093213081 W= 0.0669095 b= 3.22415\n",
      "Epoch: 0601 cost= 5.687645435 W= 0.0569241 b= 5.18713\n",
      "Epoch: 0801 cost= 5.325777054 W= 0.0513036 b= 6.29206\n",
      "Epoch: 1001 cost= 5.263931751 W= 0.0487831 b= 6.78754\n",
      "Epoch: 1201 cost= 5.256881714 W= 0.0478733 b= 6.96642\n",
      "Epoch: 1401 cost= 5.256352425 W= 0.0476097 b= 7.01823\n",
      "Epoch: 1601 cost= 5.256328106 W= 0.0475491 b= 7.03014\n",
      "Epoch: 1801 cost= 5.256326675 W= 0.0475383 b= 7.03227\n",
      "Optimization Finished!\n",
      "cost= 5.25633 W= 0.0475368 b= 7.03256\n"
     ]
    },
    {
     "data": {
      "image/png": "[encoded data removed]",
      "text/plain": [
       "<matplotlib.figure.Figure at 0x104017f50>"
      ]
     },
     "metadata": {},
     "output_type": "display_data"
    }
   ],
   "source": [
    "# Initializing the variables\n",
    "init = tf.initialize_all_variables()\n",
    "# Launch the graph\n",
    "with tf.Session() as sess:\n",
    "    writer = tf.train.SummaryWriter(\"tmp/linear_regression\", sess.graph)\n",
    "    \n",
    "    sess.run(init)\n",
    "\n",
    "    # Fit all training data\n",
    "    for epoch in range(training_epochs):\n",
    "        result = sess.run([optimizer, cost, merged], feed_dict={X: train_X, y: train_Y}) \n",
    "        summary_str = result[2]\n",
    "        writer.add_summary(summary_str, epoch)\n",
    "\n",
    "        #Display logs per epoch step\n",
    "        if epoch % display_step == 0:\n",
    "            print \"Epoch:\", '%04d' % (epoch+1), \"cost=\", \\\n",
    "                \"{:.9f}\".format(sess.run(cost, feed_dict={X: train_X, y:train_Y})), \\\n",
    "                \"W=\", sess.run(W), \"b=\", sess.run(b)\n",
    "\n",
    "    print \"Optimization Finished!\"\n",
    "    print \"cost=\", sess.run(cost, feed_dict={X: train_X, y: train_Y}), \\\n",
    "          \"W=\", sess.run(W), \"b=\", sess.run(b)\n",
    "\n",
    "    #Graphic display\n",
    "    plt.plot(train_X, train_Y, 'ro', label='Original data')\n",
    "    plt.plot(train_X, sess.run(W) * train_X + sess.run(b), label='Fitted line')\n",
    "    plt.legend()\n",
    "    plt.show()"
   ]
  },
  {
   "cell_type": "code",
   "execution_count": null,
   "metadata": {
    "collapsed": true
   },
   "outputs": [],
   "source": []
  }
 ],
 "metadata": {
  "kernelspec": {
   "display_name": "Python 2",
   "language": "python",
   "name": "python2"
  },
  "language_info": {
   "codemirror_mode": {
    "name": "ipython",
    "version": 2
   },
   "file_extension": ".py",
   "mimetype": "text/x-python",
   "name": "python",
   "nbconvert_exporter": "python",
   "pygments_lexer": "ipython2",
   "version": "2.7.11"
  }
 },
 "nbformat": 4,
 "nbformat_minor": 0
}
